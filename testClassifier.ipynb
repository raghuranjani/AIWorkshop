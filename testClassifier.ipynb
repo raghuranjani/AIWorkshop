{
 "cells": [
  {
   "cell_type": "code",
   "execution_count": 1,
   "metadata": {},
   "outputs": [],
   "source": [
    "import os\n",
    "import pandas as pd\n",
    "\n",
    "# defining test dataframe\n",
    "df = pd.DataFrame()\n",
    "# defining test truth dataframe\n",
    "df_test_truth = pd.DataFrame()\n",
    "mapping = {}\n",
    "source_path = \"bbc/bbc/\""
   ]
  },
  {
   "cell_type": "code",
   "execution_count": 2,
   "metadata": {},
   "outputs": [],
   "source": [
    "# looping through bbc/bbc/ directory\n",
    "for i in sorted(os.listdir(source_path)):\n",
    "    # checking if it is directory or not\n",
    "    if os.path.isdir(source_path+i):\n",
    "        # creating the dictionary with class as key and 10 files after 300 files as key\n",
    "        mapping[i] = sorted(os.listdir(source_path+i))[300:310]"
   ]
  },
  {
   "cell_type": "code",
   "execution_count": 3,
   "metadata": {},
   "outputs": [
    {
     "name": "stdout",
     "output_type": "stream",
     "text": [
      "dict_keys(['business', 'entertainment', 'politics', 'sport', 'tech'])\n",
      "dict_values([['301.txt', '302.txt', '303.txt', '304.txt', '305.txt', '306.txt', '307.txt', '308.txt', '309.txt', '310.txt'], ['301.txt', '302.txt', '303.txt', '304.txt', '305.txt', '306.txt', '307.txt', '308.txt', '309.txt', '310.txt'], ['301.txt', '302.txt', '303.txt', '304.txt', '305.txt', '306.txt', '307.txt', '308.txt', '309.txt', '310.txt'], ['301.txt', '302.txt', '303.txt', '304.txt', '305.txt', '306.txt', '307.txt', '308.txt', '309.txt', '310.txt'], ['301.txt', '302.txt', '303.txt', '304.txt', '305.txt', '306.txt', '307.txt', '308.txt', '309.txt', '310.txt']])\n"
     ]
    }
   ],
   "source": [
    "# printing in the mappings with keys/values individually\n",
    "print(mapping.keys())\n",
    "print(mapping.values())"
   ]
  },
  {
   "cell_type": "code",
   "execution_count": 4,
   "metadata": {},
   "outputs": [],
   "source": [
    "# label or class or target list\n",
    "label = []\n",
    "# text file data list\n",
    "data = []\n",
    "# unpacking and iterating through dictionary\n",
    "for i, j in mapping.items():\n",
    "    # iterating through list of files for each class\n",
    "    for k in j:\n",
    "        # appending labels/class/target\n",
    "        label.append(i)\n",
    "        # reading the file and appending to data list\n",
    "        data.append(open(source_path+i+\"/\"+k, encoding=\"cp1252\").read().replace(\"\\n\", \" \"))"
   ]
  },
  {
   "cell_type": "code",
   "execution_count": 5,
   "metadata": {},
   "outputs": [],
   "source": [
    "# creating test dataframe and assigning data without label\n",
    "df[\"document\"] = data\n",
    "# creating test truth dataframe and assigning data\n",
    "df_test_truth[\"label\"] = label\n",
    "df_test_truth[\"document\"] = data"
   ]
  },
  {
   "cell_type": "code",
   "execution_count": 6,
   "metadata": {},
   "outputs": [
    {
     "name": "stdout",
     "output_type": "stream",
     "text": [
      "Test data rows :  50\n",
      "Test truth data rows :  50\n"
     ]
    }
   ],
   "source": [
    "print(\"Test data rows : \", df.shape[0])\n",
    "print(\"Test truth data rows : \", df_test_truth.shape[0])"
   ]
  },
  {
   "cell_type": "code",
   "execution_count": 7,
   "metadata": {},
   "outputs": [],
   "source": [
    "# saving test data as csv file without index and headers\n",
    "df.to_csv(\"testclassifier.csv\", index=False, header=False)\n",
    "# saving test truth data as csv file without index and headers\n",
    "df_test_truth.to_csv(\"test_truthclassifier.csv\", index=False, header=False)"
   ]
  },
  {
   "cell_type": "code",
   "execution_count": null,
   "metadata": {},
   "outputs": [],
   "source": []
  }
 ],
 "metadata": {
  "kernelspec": {
   "display_name": "Python 3",
   "language": "python",
   "name": "python3"
  },
  "language_info": {
   "codemirror_mode": {
    "name": "ipython",
    "version": 3
   },
   "file_extension": ".py",
   "mimetype": "text/x-python",
   "name": "python",
   "nbconvert_exporter": "python",
   "pygments_lexer": "ipython3",
   "version": "3.7.3"
  }
 },
 "nbformat": 4,
 "nbformat_minor": 2
}
